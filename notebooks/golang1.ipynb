{
 "cells": [
  {
   "cell_type": "code",
   "execution_count": 1,
   "id": "977770e3-a894-4254-b008-d5273431a797",
   "metadata": {},
   "outputs": [],
   "source": [
    "package main"
   ]
  },
  {
   "cell_type": "code",
   "execution_count": 2,
   "id": "caa1b905-9839-4d39-8fe1-32145bf63df0",
   "metadata": {},
   "outputs": [
    {
     "name": "stdout",
     "output_type": "stream",
     "text": [
      "Hello\n"
     ]
    }
   ],
   "source": [
    "import(\n",
    "    \"fmt\"\n",
    ")\n",
    "\n",
    "func main(){\n",
    "    fmt.Println(\"Hello\")\n",
    "}"
   ]
  }
 ],
 "metadata": {
  "kernelspec": {
   "display_name": "Go (gonb)",
   "language": "go",
   "name": "gonb"
  },
  "language_info": {
   "codemirror_mode": "",
   "file_extension": ".go",
   "mimetype": "text/x-go",
   "name": "go",
   "nbconvert_exporter": "",
   "pygments_lexer": "",
   "version": "go1.23.5"
  }
 },
 "nbformat": 4,
 "nbformat_minor": 5
}
