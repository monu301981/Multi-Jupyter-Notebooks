{
 "cells": [
  {
   "cell_type": "code",
   "execution_count": 1,
   "id": "55a9792c-6285-459e-8433-094274914b2d",
   "metadata": {},
   "outputs": [],
   "source": [
    "from IPython.display import HTML"
   ]
  },
  {
   "cell_type": "code",
   "execution_count": 2,
   "id": "4cb65644-9549-4ea3-be91-462d46763604",
   "metadata": {},
   "outputs": [
    {
     "data": {
      "text/html": [
       "<html>\n",
       "    <head>\n",
       "        <script>\n",
       "            function speak() {\n",
       "                alert('Hello')\n",
       "            }\n",
       "        </script>\n",
       "    </head>\n",
       "    <body>\n",
       "        <button onclick=\"speak()\">Click Me</button>\n",
       "    </body>\n",
       "</html>\n"
      ],
      "text/plain": [
       "<IPython.core.display.HTML object>"
      ]
     },
     "metadata": {},
     "output_type": "display_data"
    }
   ],
   "source": [
    "%%html\n",
    "<html>\n",
    "    <head>\n",
    "        <script>\n",
    "            function speak() {\n",
    "                alert('Hello')\n",
    "            }\n",
    "        </script>\n",
    "    </head>\n",
    "    <body>\n",
    "        <button onclick=\"speak()\">Click Me</button>\n",
    "    </body>\n",
    "</html>"
   ]
  },
  {
   "cell_type": "code",
   "execution_count": 3,
   "id": "237425bc-542e-4c25-88c2-323a089d8568",
   "metadata": {},
   "outputs": [
    {
     "data": {
      "text/html": [
       "<html>\n",
       "  <head>\n",
       "    <script src='https://unpkg.com/react@18/umd/react.development.js' crossorigin></script>\n",
       "    <script src=\"https://unpkg.com/react-dom@18/umd/react-dom.development.js\" crossorigin></script>\n",
       "    <script src=\"https://unpkg.com/@babel/standalone/babel.min.js\" crossorigin></script>\n",
       "  </head>\n",
       "  <body>\n",
       "\n",
       "    <div id=\"mydiv\"></div>\n",
       "\n",
       "    <script type=\"text/babel\">\n",
       "      function Hello() {\n",
       "        return <h1>Hello World!</h1>;\n",
       "      }\n",
       "\n",
       "      const container = document.getElementById('mydiv');\n",
       "      const root = ReactDOM.createRoot(container);\n",
       "      root.render(<Hello />)\n",
       "    </script>\n",
       "\n",
       "  </body>\n",
       "</html>\n"
      ],
      "text/plain": [
       "<IPython.core.display.HTML object>"
      ]
     },
     "metadata": {},
     "output_type": "display_data"
    }
   ],
   "source": [
    "%%html\n",
    "<html>\n",
    "  <head>\n",
    "    <script src='https://unpkg.com/react@18/umd/react.development.js' crossorigin></script>\n",
    "    <script src=\"https://unpkg.com/react-dom@18/umd/react-dom.development.js\" crossorigin></script>\n",
    "    <script src=\"https://unpkg.com/@babel/standalone/babel.min.js\" crossorigin></script>\n",
    "  </head>\n",
    "  <body>\n",
    "\n",
    "    <div id=\"mydiv\"></div>\n",
    "\n",
    "    <script type=\"text/babel\">\n",
    "      function Hello() {\n",
    "        return <h1>Hello World!</h1>;\n",
    "      }\n",
    "\n",
    "      const container = document.getElementById('mydiv');\n",
    "      const root = ReactDOM.createRoot(container);\n",
    "      root.render(<Hello />)\n",
    "    </script>\n",
    "\n",
    "  </body>\n",
    "</html>"
   ]
  }
 ],
 "metadata": {
  "kernelspec": {
   "display_name": "Python 3 (ipykernel)",
   "language": "python",
   "name": "python3"
  },
  "language_info": {
   "codemirror_mode": {
    "name": "ipython",
    "version": 3
   },
   "file_extension": ".py",
   "mimetype": "text/x-python",
   "name": "python",
   "nbconvert_exporter": "python",
   "pygments_lexer": "ipython3",
   "version": "3.11.6"
  }
 },
 "nbformat": 4,
 "nbformat_minor": 5
}
