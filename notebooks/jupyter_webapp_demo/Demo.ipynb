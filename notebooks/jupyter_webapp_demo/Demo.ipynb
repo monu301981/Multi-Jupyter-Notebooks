{
 "cells": [
  {
   "cell_type": "code",
   "execution_count": 1,
   "id": "binding-glance",
   "metadata": {},
   "outputs": [],
   "source": [
    "import warnings\n",
    "# warnings.filterwarnings('ignore')\n",
    "import ipywidgets as widgets\n",
    "import tempfile\n",
    "from IPython.display import display, clear_output, HTML, IFrame, display, HTML\n",
    "from random import choices\n",
    "from os import unlink"
   ]
  },
  {
   "cell_type": "code",
   "execution_count": 2,
   "id": "informal-powell",
   "metadata": {},
   "outputs": [],
   "source": [
    "#!jupyter nbextension enable --py widgetsnbextension --sys-prefix\n",
    "#!jupyter serverextension enable voila --sys-prefix"
   ]
  },
  {
   "cell_type": "code",
   "execution_count": 3,
   "id": "reflected-speaker",
   "metadata": {},
   "outputs": [],
   "source": [
    "# Image Widget\n",
    "\n",
    "file = open(\"grandma.jpg\", \"rb\")\n",
    "image = file.read()\n",
    "\n",
    "image_headline = widgets.Image(\n",
    "                    value=image,\n",
    "                    format='jpg',\n",
    "                    width='300'\n",
    "                )\n",
    "\n",
    "label_headline = widgets.Label(\n",
    "                    value='Photo by CDC on Unsplash',\n",
    "                    style={'description_width': 'initial'}\n",
    "                )\n",
    "\n",
    "vbox_headline = widgets.VBox([image_headline, label_headline])"
   ]
  },
  {
   "cell_type": "code",
   "execution_count": 4,
   "id": "reverse-belfast",
   "metadata": {},
   "outputs": [],
   "source": [
    "# grandson/granddaughter\n",
    "\n",
    "grand = widgets.ToggleButtons(\n",
    "            options=['grandson', 'granddaughter']\n",
    "        )"
   ]
  },
  {
   "cell_type": "code",
   "execution_count": 5,
   "id": "bearing-lover",
   "metadata": {},
   "outputs": [],
   "source": [
    "# name\n",
    "\n",
    "name = widgets.Text(placeholder='Your name here')"
   ]
  },
  {
   "cell_type": "code",
   "execution_count": 6,
   "id": "headed-bloom",
   "metadata": {},
   "outputs": [],
   "source": [
    "date = widgets.DatePicker(description='Pick a Date')"
   ]
  },
  {
   "cell_type": "code",
   "execution_count": 7,
   "id": "naval-night",
   "metadata": {},
   "outputs": [],
   "source": [
    "# number of friends\n",
    "\n",
    "friends = widgets.IntSlider(\n",
    "            value=3, # default value\n",
    "            min=0, \n",
    "            max=10,\n",
    "            step=1,\n",
    "            style={'description_width': 'initial', 'handle_color': '#16a085'} \n",
    "        )"
   ]
  },
  {
   "cell_type": "code",
   "execution_count": 8,
   "id": "thorough-royal",
   "metadata": {},
   "outputs": [],
   "source": [
    "# button send\n",
    "\n",
    "button_send = widgets.Button(\n",
    "                description='Send to grandma',\n",
    "                tooltip='Send',\n",
    "                style={'description_width': 'initial'}\n",
    "            )\n",
    "\n",
    "output = widgets.Output()\n",
    "\n",
    "def on_button_clicked(event):\n",
    "    with output:\n",
    "        clear_output()\n",
    "        print(\"Sent message: \")\n",
    "        print(f\"Dear Grandma! This is your favourite {grand.value}, {name.value}.\")\n",
    "        print(f\"I would love to come over on {date.value} for dinner, if that's okay for you!\")\n",
    "        print(f\"Also, if you don't mind, I'll bring along {friends.value} hungry ghosts for your delicious food!\")\n",
    "\n",
    "button_send.on_click(on_button_clicked)\n",
    "\n",
    "vbox_result = widgets.VBox([button_send, output])"
   ]
  },
  {
   "cell_type": "code",
   "execution_count": 9,
   "id": "guilty-ending",
   "metadata": {},
   "outputs": [],
   "source": [
    "# stacked right hand side\n",
    "\n",
    "text_0 = widgets.HTML(value=\"<h1>Dear Grandma!</h1>\")\n",
    "text_1 = widgets.HTML(value=\"<h2>This is your favourite</h2>\")\n",
    "text_2= widgets.HTML(value=\"<h2>I would love to come over on </h2>\")\n",
    "text_3= widgets.HTML(value=\"<h2>for dinner, if that's okay for you!</h2>\")\n",
    "text_4= widgets.HTML(value=\"<h2>Also, if you don't mind, I'll bring along </h2>\")\n",
    "text_5= widgets.HTML(value=\"<h2>hungry ghosts for dinner, if that's okay for you!</h2>\")\n",
    "\n",
    "vbox_text = widgets.VBox([text_0, text_1, grand, name, text_2, date, text_3, text_4, friends, text_5, vbox_result])"
   ]
  },
  {
   "cell_type": "code",
   "execution_count": 10,
   "id": "earlier-saturday",
   "metadata": {},
   "outputs": [
    {
     "data": {
      "application/vnd.jupyter.widget-view+json": {
       "model_id": "a3688895badb4445980f7ef9aa2bc910",
       "version_major": 2,
       "version_minor": 0
      },
      "text/plain": [
       "HBox(children=(VBox(children=(Image(value=b'\\xff\\xd8\\xff\\xe0\\x00\\x10JFIF\\x00\\x01\\x01\\x01\\x00H\\x00H\\x00\\x00\\xff…"
      ]
     },
     "metadata": {},
     "output_type": "display_data"
    }
   ],
   "source": [
    "page = widgets.HBox([vbox_headline, vbox_text])\n",
    "display(page)"
   ]
  },
  {
   "cell_type": "code",
   "execution_count": 11,
   "id": "according-supervisor",
   "metadata": {},
   "outputs": [
    {
     "name": "stdout",
     "output_type": "stream",
     "text": [
      "\n",
      "<html>\n",
      "  <head>\n",
      "    <script src=\"https://unpkg.com/react@18/umd/react.development.js\" crossorigin></script>\n",
      "    <script src=\"https://unpkg.com/react-dom@18/umd/react-dom.development.js\" crossorigin></script>\n",
      "    <script src=\"https://unpkg.com/@babel/standalone/babel.min.js\"></script>\n",
      "  </head>\n",
      "  <body>\n",
      "\n",
      "    <div id=\"mydiv\"></div>\n",
      "\n",
      "    <script type=\"text/babel\">\n",
      "      function Hello() {\n",
      "        return <h1>Hello World!</h1>;\n",
      "      }\n",
      "\n",
      "      const container = document.getElementById('mydiv');\n",
      "      const root = ReactDOM.createRoot(container);\n",
      "      root.render(<Hello />)\n",
      "    </script>\n",
      "\n",
      "  </body>\n",
      "</html>\n",
      "\n"
     ]
    }
   ],
   "source": [
    "a = \"\"\"\n",
    "<html>\n",
    "  <head>\n",
    "    <script src=\"https://unpkg.com/react@18/umd/react.development.js\" crossorigin></script>\n",
    "    <script src=\"https://unpkg.com/react-dom@18/umd/react-dom.development.js\" crossorigin></script>\n",
    "    <script src=\"https://unpkg.com/@babel/standalone/babel.min.js\"></script>\n",
    "  </head>\n",
    "  <body>\n",
    "\n",
    "    <div id=\"mydiv\"></div>\n",
    "\n",
    "    <script type=\"text/babel\">\n",
    "      function Hello() {\n",
    "        return <h1>Hello World from react!</h1>;\n",
    "      }\n",
    "\n",
    "      const container = document.getElementById('mydiv');\n",
    "      const root = ReactDOM.createRoot(container);\n",
    "      root.render(<Hello />)\n",
    "    </script>\n",
    "\n",
    "  </body>\n",
    "</html>\n",
    "\"\"\"\n",
    "print(a)"
   ]
  },
  {
   "cell_type": "code",
   "execution_count": 12,
   "id": "b782ade8",
   "metadata": {},
   "outputs": [
    {
     "data": {
      "text/html": [
       "\n",
       "        <iframe\n",
       "            width=\"600\"\n",
       "            height=\"600\"\n",
       "            src=\"temp_cpigmg.html\"\n",
       "            frameborder=\"0\"\n",
       "            allowfullscreen\n",
       "            \n",
       "        ></iframe>\n",
       "        "
      ],
      "text/plain": [
       "<IPython.lib.display.IFrame at 0x7f07a44c09d0>"
      ]
     },
     "metadata": {
      "isolated": true
     },
     "output_type": "display_data"
    },
    {
     "data": {
      "text/html": [
       "\n",
       "<html>\n",
       "  <head>\n",
       "    <script src=\"https://unpkg.com/react@18/umd/react.development.js\" crossorigin></script>\n",
       "    <script src=\"https://unpkg.com/react-dom@18/umd/react-dom.development.js\" crossorigin></script>\n",
       "    <script src=\"https://unpkg.com/@babel/standalone/babel.min.js\"></script>\n",
       "  </head>\n",
       "  <body>\n",
       "\n",
       "    <div id=\"mydiv\"></div>\n",
       "\n",
       "    <script type=\"text/babel\">\n",
       "      function Hello() {\n",
       "        return <h1>Hello World!</h1>;\n",
       "      }\n",
       "\n",
       "      const container = document.getElementById('mydiv');\n",
       "      const root = ReactDOM.createRoot(container);\n",
       "      root.render(<Hello />)\n",
       "    </script>\n",
       "\n",
       "  </body>\n",
       "</html>\n"
      ],
      "text/plain": [
       "<IPython.core.display.HTML object>"
      ]
     },
     "metadata": {
      "text/html": {
       "isolated": true
      }
     },
     "output_type": "display_data"
    }
   ],
   "source": [
    "def random_name(length=6):\n",
    "    return \"\".join(choices(\"abcdefghijklmnopqrstuvwxyz\", k=length))\n",
    "\n",
    "\n",
    "def display_html_to_iframe(html, width=600, height=600):\n",
    "    name = f\"temp_{random_name()}.html\"\n",
    "    with open(name, \"w\") as f:\n",
    "        print(html, file=f)\n",
    "    display(IFrame(name, width, height), metadata=dict(isolated=True))\n",
    "    # unlink(name)\n",
    "    \n",
    "def display_html_inline(html):\n",
    "    display(HTML(html, metadata=dict(isolated=True)))\n",
    "\n",
    "h=\"<html><b>Hello</b></html>\"    \n",
    "display_html_to_iframe(a)\n",
    "display_html_inline(a)"
   ]
  },
  {
   "cell_type": "code",
   "execution_count": 13,
   "id": "e01868f4",
   "metadata": {},
   "outputs": [
    {
     "data": {
      "text/html": [
       "<h1>Hello, world!</h1>"
      ],
      "text/plain": [
       "<IPython.core.display.HTML object>"
      ]
     },
     "metadata": {},
     "output_type": "display_data"
    },
    {
     "name": "stdout",
     "output_type": "stream",
     "text": [
      "Here's a link:\n"
     ]
    },
    {
     "data": {
      "text/html": [
       "<a href='http://www.google.com' target='_blank'>www.google.com</a>"
      ],
      "text/plain": [
       "<IPython.core.display.HTML object>"
      ]
     },
     "metadata": {},
     "output_type": "display_data"
    },
    {
     "name": "stdout",
     "output_type": "stream",
     "text": [
      "some more printed text ...\n"
     ]
    },
    {
     "data": {
      "text/html": [
       "<p>Paragraph text here ...</p>"
      ],
      "text/plain": [
       "<IPython.core.display.HTML object>"
      ]
     },
     "metadata": {},
     "output_type": "display_data"
    }
   ],
   "source": [
    "display(HTML('<h1>Hello, world!</h1>'))\n",
    "print(\"Here's a link:\")\n",
    "display(HTML(\"<a href='http://www.google.com' target='_blank'>www.google.com</a>\"))\n",
    "print(\"some more printed text ...\")\n",
    "display(HTML('<p>Paragraph text here ...</p>'))"
   ]
  }
 ],
 "metadata": {
  "kernelspec": {
   "display_name": "Python 3 (ipykernel)",
   "language": "python",
   "name": "python3"
  },
  "language_info": {
   "codemirror_mode": {
    "name": "ipython",
    "version": 3
   },
   "file_extension": ".py",
   "mimetype": "text/x-python",
   "name": "python",
   "nbconvert_exporter": "python",
   "pygments_lexer": "ipython3",
   "version": "3.11.6"
  }
 },
 "nbformat": 4,
 "nbformat_minor": 5
}
