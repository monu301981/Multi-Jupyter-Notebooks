{
 "cells": [
  {
   "cell_type": "code",
   "execution_count": null,
   "id": "01685930-d36e-4887-aa6e-3d8b61b91c6e",
   "metadata": {},
   "outputs": [],
   "source": [
    "#include <iostream>\n",
    "\n",
    "int main() {\n",
    "  std::cout << \"Hello, World!\" << std::endl;\n",
    "  return 0;\n",
    "}"
   ]
  },
  {
   "cell_type": "code",
   "execution_count": null,
   "id": "6a0db36f-5a07-46a9-9570-84f57b9fd2c5",
   "metadata": {},
   "outputs": [],
   "source": []
  }
 ],
 "metadata": {
  "kernelspec": {
   "display_name": "C++17",
   "language": "C++17",
   "name": "xcpp17"
  },
  "language_info": {
   "name": ""
  }
 },
 "nbformat": 4,
 "nbformat_minor": 5
}
