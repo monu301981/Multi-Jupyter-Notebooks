{
 "cells": [
  {
   "cell_type": "code",
   "execution_count": 1,
   "id": "120d8521-d058-49ae-9b45-f947fb9d5708",
   "metadata": {},
   "outputs": [
    {
     "name": "stdout",
     "output_type": "stream",
     "text": [
      "[1] \"HelloWorld\"\n"
     ]
    }
   ],
   "source": [
    "print(\"HelloWorld\")"
   ]
  },
  {
   "cell_type": "code",
   "execution_count": 5,
   "id": "1f78e875-1648-4bca-a5ad-32a2bca1b1da",
   "metadata": {},
   "outputs": [],
   "source": [
    "my_data = \"test, test1, test3\"\n",
    "\n",
    "write.csv(my_data, file = \"/home/jovyan/my_data.csv\")\n",
    "write.csv2(my_data, file = \"/home/jovyan/my_data.csv\")"
   ]
  }
 ],
 "metadata": {
  "kernelspec": {
   "display_name": "R",
   "language": "R",
   "name": "ir"
  },
  "language_info": {
   "codemirror_mode": "r",
   "file_extension": ".r",
   "mimetype": "text/x-r-source",
   "name": "R",
   "pygments_lexer": "r",
   "version": "4.3.1"
  }
 },
 "nbformat": 4,
 "nbformat_minor": 5
}
